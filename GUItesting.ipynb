{
 "cells": [
  {
   "cell_type": "code",
   "execution_count": 3,
   "id": "376ec921-7e27-480d-bad5-d98a4bb3ab98",
   "metadata": {},
   "outputs": [
    {
     "name": "stdout",
     "output_type": "stream",
     "text": [
      "pygame 2.6.1 (SDL 2.28.4, Python 3.11.8)\n",
      "Hello from the pygame community. https://www.pygame.org/contribute.html\n"
     ]
    }
   ],
   "source": [
    "import pygame\n",
    "import sys"
   ]
  },
  {
   "cell_type": "code",
   "execution_count": 5,
   "id": "3908d8d8-c8d2-4d4e-9a5a-df373074b470",
   "metadata": {},
   "outputs": [
    {
     "ename": "SystemExit",
     "evalue": "",
     "output_type": "error",
     "traceback": [
      "An exception has occurred, use %tb to see the full traceback.\n",
      "\u001b[0;31mSystemExit\u001b[0m\n"
     ]
    },
    {
     "name": "stderr",
     "output_type": "stream",
     "text": [
      "/opt/anaconda3/lib/python3.11/site-packages/IPython/core/interactiveshell.py:3561: UserWarning: To exit: use 'exit', 'quit', or Ctrl-D.\n",
      "  warn(\"To exit: use 'exit', 'quit', or Ctrl-D.\", stacklevel=1)\n"
     ]
    }
   ],
   "source": [
    "pygame.init()\n",
    "\n",
    "screen_width = 500\n",
    "screen_height = 500\n",
    "\n",
    "n = 8\n",
    "grid_size = screen_width // 3\n",
    "\n",
    "screen = pygame.display.set_mode((screen_width, screen_height))\n",
    "pygame.display.set_caption(\"SOS Game Grid\")\n",
    "\n",
    "BLACK = (0, 0, 0)\n",
    "WHITE = (255, 255, 255)\n",
    "GRAY = (200, 200, 200)\n",
    "\n",
    "def draw_grid():\n",
    "    start_x = (screen_width - grid_size) // 2\n",
    "    start_y = (screen_height - grid_size) // 2\n",
    "    cell_size = grid_size // n\n",
    "\n",
    "    for row in range(1, n):\n",
    "        pygame.draw.line(screen, BLACK, (start_x + row * cell_size, start_y), (start_x + row * cell_size, start_y + grid_size), 2)\n",
    "        pygame.draw.line(screen, BLACK, (start_x, start_y + row * cell_size), (start_x + grid_size, start_y + row * cell_size), 2)\n",
    "\n",
    "    pygame.draw.rect(screen, BLACK, (start_x, start_y, grid_size, grid_size), 2)\n",
    "\n",
    "def draw_button(x, y, width, height, text):\n",
    "    pygame.draw.rect(screen, GRAY, (x, y, width, height))\n",
    "    pygame.draw.rect(screen, BLACK, (x, y, width, height), 2)\n",
    "    font = pygame.font.SysFont(\"Arial\", 18)\n",
    "    label = font.render(text, True, BLACK)\n",
    "    screen.blit(label, (x + (width - label.get_width()) // 2, y + (height - label.get_height()) // 2))\n",
    "\n",
    "running = True\n",
    "while running:\n",
    "    screen.fill(WHITE)\n",
    "\n",
    "    for event in pygame.event.get():\n",
    "        if event.type == pygame.QUIT:\n",
    "            running = False\n",
    "\n",
    "    draw_grid()\n",
    "\n",
    "    draw_button(50, 400, 100, 40, \"Start Game\")\n",
    "    draw_button(200, 400, 100, 40, \"Exit\")\n",
    "\n",
    "    pygame.display.flip()\n",
    "\n",
    "pygame.quit()\n",
    "sys.exit()"
   ]
  },
  {
   "cell_type": "code",
   "execution_count": null,
   "id": "f36bb55b-a8df-473d-8031-843bcbb7b59d",
   "metadata": {},
   "outputs": [],
   "source": []
  }
 ],
 "metadata": {
  "kernelspec": {
   "display_name": "Python 3 (ipykernel)",
   "language": "python",
   "name": "python3"
  },
  "language_info": {
   "codemirror_mode": {
    "name": "ipython",
    "version": 3
   },
   "file_extension": ".py",
   "mimetype": "text/x-python",
   "name": "python",
   "nbconvert_exporter": "python",
   "pygments_lexer": "ipython3",
   "version": "3.11.8"
  }
 },
 "nbformat": 4,
 "nbformat_minor": 5
}
