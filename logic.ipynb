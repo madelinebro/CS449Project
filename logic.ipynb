{
 "cells": [
  {
   "cell_type": "code",
   "execution_count": 18,
   "id": "d298e074-d588-4f21-90b4-896713537e6e",
   "metadata": {},
   "outputs": [],
   "source": [
    "class SOSGame:\n",
    "    def __init__(self, n=8, mode=\"Simple\"):\n",
    "        self.n = n\n",
    "        self.mode = mode\n",
    "        self.board = [['' for _ in range(n)] for _ in range(n)]\n",
    "        self.current_player = 'Blue'\n",
    "        self.symbol_choice = {'Blue': 'S', 'Red': 'O'}\n",
    "    \n",
    "    def place_symbol(self, row, col):\n",
    "        if self.board[row][col] == '':\n",
    "            self.board[row][col] = (self.symbol_choice[self.current_player], self.current_player)\n",
    "            self.switch_turn()\n",
    "    \n",
    "    def switch_turn(self):\n",
    "        self.current_player = 'Red' if self.current_player == 'Blue' else 'Blue'\n",
    "    \n",
    "    def swap_roles(self):\n",
    "        if self.symbol_choice['Blue'] == 'S':\n",
    "            self.symbol_choice = {'Blue': 'O', 'Red': 'S'}\n",
    "        else:\n",
    "            self.symbol_choice = {'Blue': 'S', 'Red': 'O'}\n",
    "        print(f\"Roles swapped: Blue = {self.symbol_choice['Blue']}, Red = {self.symbol_choice['Red']}\")\n",
    "    \n",
    "    def set_game_mode(self, mode):\n",
    "        self.mode = mode\n",
    "        print(f\"Game mode set to: {mode}\")\n",
    "    \n",
    "    def set_board_size(self, new_size):\n",
    "        try:\n",
    "            new_size = int(new_size)\n",
    "            if new_size > 2:\n",
    "                self.n = new_size\n",
    "                self.board = [['' for _ in range(new_size)] for _ in range(new_size)]\n",
    "                print(f\"Board size updated to: {new_size}\")\n",
    "                return True\n",
    "        except ValueError:\n",
    "            pass\n",
    "        return False\n",
    "\n",
    "    def reset_game(self):\n",
    "        self.board = [['' for _ in range(self.n)] for _ in range(self.n)]\n",
    "        self.current_player = 'Blue'\n",
    "        print(\"Game reset\")"
   ]
  },
  {
   "cell_type": "code",
   "execution_count": null,
   "id": "340902bf-6fe9-4341-8233-839af8b5c17c",
   "metadata": {},
   "outputs": [],
   "source": []
  }
 ],
 "metadata": {
  "kernelspec": {
   "display_name": "Python 3 (ipykernel)",
   "language": "python",
   "name": "python3"
  },
  "language_info": {
   "codemirror_mode": {
    "name": "ipython",
    "version": 3
   },
   "file_extension": ".py",
   "mimetype": "text/x-python",
   "name": "python",
   "nbconvert_exporter": "python",
   "pygments_lexer": "ipython3",
   "version": "3.11.8"
  }
 },
 "nbformat": 4,
 "nbformat_minor": 5
}
