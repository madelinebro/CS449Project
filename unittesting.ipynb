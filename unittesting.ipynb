{
 "cells": [
  {
   "cell_type": "code",
   "execution_count": 1,
   "id": "ef6b4654-ed29-4b09-8aae-dd15e857714e",
   "metadata": {},
   "outputs": [],
   "source": [
    "import unittest"
   ]
  },
  {
   "cell_type": "code",
   "execution_count": 3,
   "id": "2b6507c9-32b4-43ce-8182-ce600f26fad0",
   "metadata": {},
   "outputs": [],
   "source": [
    "def ManualSum(a,b):\n",
    "    return a + b\n",
    "\n",
    "class SumTest(unittest.TestCase):\n",
    "    \n",
    "    def setUp(self):\n",
    "        print(\"Setup called\")\n",
    "        self.a = 3\n",
    "        self.b = 7\n",
    "\n",
    "    def tearDown(self):\n",
    "        self.a = 0\n",
    "        self.b = 0\n",
    "        print(\"Breaking it down now\")\n",
    "\n",
    "    def testSum_1(self):\n",
    "        print(\"Test 1 called\")\n",
    "        result = ManualSum(self.a,self.b)\n",
    "        self.assertEqual(result, self.a + self.b)\n",
    "        \n",
    "    def testSum_2(self):\n",
    "        print(\"Test 2 called\")\n",
    "        result = ManualSum(self.b,self.a)\n",
    "        self.assertEqual(result, self.b + self.a)\n"
   ]
  },
  {
   "cell_type": "code",
   "execution_count": 5,
   "id": "f370d678-953b-42dc-9ad8-e8107f6138b2",
   "metadata": {},
   "outputs": [
    {
     "name": "stderr",
     "output_type": "stream",
     "text": [
      "..\n",
      "----------------------------------------------------------------------\n",
      "Ran 2 tests in 0.002s\n",
      "\n",
      "OK\n"
     ]
    },
    {
     "name": "stdout",
     "output_type": "stream",
     "text": [
      "Setup called\n",
      "Test 1 called\n",
      "Breaking it down now\n",
      "Setup called\n",
      "Test 2 called\n",
      "Breaking it down now\n"
     ]
    }
   ],
   "source": [
    "if __name__ == \"__main__\":\n",
    "    unittest.main(argv=['first-arg-is-ignored'], exit=False)"
   ]
  },
  {
   "cell_type": "code",
   "execution_count": null,
   "id": "60efb46e-7e0a-43f9-86bd-b412cb6a86fd",
   "metadata": {},
   "outputs": [],
   "source": []
  },
  {
   "cell_type": "code",
   "execution_count": null,
   "id": "fa7ab0a1-dc4c-4ef7-a9d2-0a607a91fc2c",
   "metadata": {},
   "outputs": [],
   "source": []
  }
 ],
 "metadata": {
  "kernelspec": {
   "display_name": "Python 3 (ipykernel)",
   "language": "python",
   "name": "python3"
  },
  "language_info": {
   "codemirror_mode": {
    "name": "ipython",
    "version": 3
   },
   "file_extension": ".py",
   "mimetype": "text/x-python",
   "name": "python",
   "nbconvert_exporter": "python",
   "pygments_lexer": "ipython3",
   "version": "3.11.8"
  }
 },
 "nbformat": 4,
 "nbformat_minor": 5
}
