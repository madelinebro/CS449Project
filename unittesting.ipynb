{
 "cells": [
  {
   "cell_type": "code",
   "execution_count": 31,
   "id": "8da9f96b-cd97-4acf-904b-10383943a2a4",
   "metadata": {},
   "outputs": [
    {
     "name": "stderr",
     "output_type": "stream",
     "text": [
      "E\n",
      "======================================================================\n",
      "ERROR: /Users/madelinebrothers/Library/Jupyter/runtime/kernel-9d6346c3-cd22-49e4-985e-4cad837bc562 (unittest.loader._FailedTest./Users/madelinebrothers/Library/Jupyter/runtime/kernel-9d6346c3-cd22-49e4-985e-4cad837bc562)\n",
      "----------------------------------------------------------------------\n",
      "AttributeError: module '__main__' has no attribute '/Users/madelinebrothers/Library/Jupyter/runtime/kernel-9d6346c3-cd22-49e4-985e-4cad837bc562'\n",
      "\n",
      "----------------------------------------------------------------------\n",
      "Ran 1 test in 0.001s\n",
      "\n",
      "FAILED (errors=1)\n"
     ]
    },
    {
     "ename": "SystemExit",
     "evalue": "True",
     "output_type": "error",
     "traceback": [
      "An exception has occurred, use %tb to see the full traceback.\n",
      "\u001b[0;31mSystemExit\u001b[0m\u001b[0;31m:\u001b[0m True\n"
     ]
    },
    {
     "name": "stderr",
     "output_type": "stream",
     "text": [
      "/opt/anaconda3/lib/python3.11/site-packages/IPython/core/interactiveshell.py:3561: UserWarning: To exit: use 'exit', 'quit', or Ctrl-D.\n",
      "  warn(\"To exit: use 'exit', 'quit', or Ctrl-D.\", stacklevel=1)\n"
     ]
    }
   ],
   "source": [
    "%run logic.ipynb\n",
    "\n",
    "import unittest\n",
    "\n",
    "class TestSOSGame(unittest.TestCase):\n",
    "    def setUp(self):\n",
    "        self.game = SOSGame(n=3)\n",
    "\n",
    "    def test_initial_board(self):\n",
    "        expected_board = [['', '', ''], ['', '', ''], ['', '', '']]\n",
    "        self.assertEqual(self.game.board, expected_board)\n",
    "\n",
    "    def test_place_symbol(self):\n",
    "        self.game.place_symbol(0, 0)\n",
    "        self.assertEqual(self.game.board[0][0], ('S', 'Blue'))\n",
    "\n",
    "    def test_switch_turn(self):\n",
    "        self.assertEqual(self.game.current_player, 'Blue')\n",
    "        self.game.switch_turn()\n",
    "        self.assertEqual(self.game.current_player, 'Red')\n",
    "\n",
    "    def test_swap_roles(self):\n",
    "        self.assertEqual(self.game.symbol_choice['Blue'], 'S')\n",
    "        self.assertEqual(self.game.symbol_choice['Red'], 'O')\n",
    "        self.game.swap_roles()\n",
    "        self.assertEqual(self.game.symbol_choice['Blue'], 'O')\n",
    "        self.assertEqual(self.game.symbol_choice['Red'], 'S')\n",
    "\n",
    "    def test_set_game_mode(self):\n",
    "        self.assertEqual(self.game.mode, \"Simple\")\n",
    "        self.game.set_game_mode(\"General\")\n",
    "        self.assertEqual(self.game.mode, \"General\")\n",
    "\n",
    "    def test_set_board_size(self):\n",
    "        self.assertTrue(self.game.set_board_size(5))\n",
    "        self.assertEqual(self.game.n, 5)\n",
    "        self.assertFalse(self.game.set_board_size(\"invalid\"))\n",
    "\n",
    "    def test_reset_game(self):\n",
    "        self.game.place_symbol(0, 0)\n",
    "        self.game.reset_game()\n",
    "        expected_board = [['', '', ''], ['', '', ''], ['', '', '']]\n",
    "        self.assertEqual(self.game.board, expected_board)\n",
    "        self.assertEqual(self.game.current_player, 'Blue')\n",
    "\n",
    "if __name__ == \"__main__\":\n",
    "    unittest.main()"
   ]
  },
  {
   "cell_type": "code",
   "execution_count": null,
   "id": "e4e50aea-cc60-4de5-983b-342f62f21f9d",
   "metadata": {},
   "outputs": [],
   "source": []
  }
 ],
 "metadata": {
  "kernelspec": {
   "display_name": "Python 3 (ipykernel)",
   "language": "python",
   "name": "python3"
  },
  "language_info": {
   "codemirror_mode": {
    "name": "ipython",
    "version": 3
   },
   "file_extension": ".py",
   "mimetype": "text/x-python",
   "name": "python",
   "nbconvert_exporter": "python",
   "pygments_lexer": "ipython3",
   "version": "3.11.8"
  }
 },
 "nbformat": 4,
 "nbformat_minor": 5
}
