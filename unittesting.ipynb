{
 "cells": [
  {
   "cell_type": "code",
   "execution_count": 15,
   "id": "8da9f96b-cd97-4acf-904b-10383943a2a4",
   "metadata": {},
   "outputs": [
    {
     "name": "stderr",
     "output_type": "stream",
     "text": [
      "E\n",
      "======================================================================\n",
      "ERROR: /Users/madelinebrothers/Library/Jupyter/runtime/kernel-2584ef19-399a-412a-a92c-0ea8b860b091 (unittest.loader._FailedTest./Users/madelinebrothers/Library/Jupyter/runtime/kernel-2584ef19-399a-412a-a92c-0ea8b860b091)\n",
      "----------------------------------------------------------------------\n",
      "AttributeError: module '__main__' has no attribute '/Users/madelinebrothers/Library/Jupyter/runtime/kernel-2584ef19-399a-412a-a92c-0ea8b860b091'\n",
      "\n",
      "----------------------------------------------------------------------\n",
      "Ran 1 test in 0.001s\n",
      "\n",
      "FAILED (errors=1)\n"
     ]
    },
    {
     "ename": "SystemExit",
     "evalue": "True",
     "output_type": "error",
     "traceback": [
      "An exception has occurred, use %tb to see the full traceback.\n",
      "\u001b[0;31mSystemExit\u001b[0m\u001b[0;31m:\u001b[0m True\n"
     ]
    },
    {
     "name": "stderr",
     "output_type": "stream",
     "text": [
      "/opt/anaconda3/lib/python3.11/site-packages/IPython/core/interactiveshell.py:3561: UserWarning: To exit: use 'exit', 'quit', or Ctrl-D.\n",
      "  warn(\"To exit: use 'exit', 'quit', or Ctrl-D.\", stacklevel=1)\n"
     ]
    }
   ],
   "source": [
    "import unittest\n",
    "\n",
    "%run logic.ipynb\n",
    "\n",
    "class TestSOSGame(unittest.TestCase):\n",
    "    def test_simple_win(self):\n",
    "        game = SOSGame(n=5, mode=\"Simple\")\n",
    "        game.board[1][1] = ('S', 'Blue')\n",
    "        game.board[1][2] = ('O', 'Red')\n",
    "        game.symbol_choice = {'Blue': 'S', 'Red': 'O'}\n",
    "        game.place_symbol(1, 3)  # Blue places 'S'\n",
    "        self.assertTrue(game.game_over)\n",
    "        self.assertEqual(game.winner, 'Blue')\n",
    "\n",
    "    def test_no_win_yet(self):\n",
    "        game = SOSGame(n=3, mode=\"Simple\")\n",
    "        game.place_symbol(0, 0)\n",
    "        game.place_symbol(0, 1)\n",
    "        self.assertFalse(game.game_over)\n",
    "        self.assertIsNone(game.winner)\n",
    "\n",
    "    def test_general_mode_winner(self):\n",
    "        game = SOSGame(n=3, mode=\"General\")\n",
    "        game.board = [\n",
    "            [('S','Blue'), ('O','Blue'), ('S','Blue')],\n",
    "            [('S','Red'), ('O','Red'), ('S','Red')],\n",
    "            [('S','Blue'), ('O','Blue'), ('S','Blue')],\n",
    "        ]\n",
    "        game.scores = {'Blue': 3, 'Red': 1}\n",
    "        self.assertTrue(game.is_board_full())\n",
    "        self.assertEqual(game.determine_winner(), 'Blue')\n",
    "\n",
    "    def test_general_mode_draw(self):\n",
    "        game = SOSGame(n=3, mode=\"General\")\n",
    "        game.board = [\n",
    "            [('S','Blue'), ('O','Blue'), ('S','Blue')],\n",
    "            [('S','Red'), ('O','Red'), ('S','Red')],\n",
    "            [('S','Blue'), ('O','Red'), ('S','Red')],\n",
    "        ]\n",
    "        game.scores = {'Blue': 2, 'Red': 2}\n",
    "        self.assertTrue(game.is_board_full())\n",
    "        self.assertEqual(game.determine_winner(), 'Draw')\n",
    "\n",
    "class TestSimpleSOSGame(unittest.TestCase):\n",
    "\n",
    "    def test_horizontal_sos_win(self):\n",
    "        game = SOSGame(n=5, mode=\"Simple\")\n",
    "        game.board[2][1] = ('S', 'Blue')\n",
    "        game.board[2][2] = ('O', 'Red')\n",
    "        game.symbol_choice['Blue'] = 'S'\n",
    "        game.place_symbol(2, 3)  # Blue places final 'S'\n",
    "        self.assertTrue(game.game_over)\n",
    "        self.assertEqual(game.winner, 'Blue')\n",
    "\n",
    "    def test_diagonal_sos_win(self):\n",
    "        game = SOSGame(n=5, mode=\"Simple\")\n",
    "        game.board[1][1] = ('S', 'Blue')\n",
    "        game.board[2][2] = ('O', 'Red')\n",
    "        game.symbol_choice['Blue'] = 'S'\n",
    "        game.place_symbol(3, 3)  # Blue places final 'S' for diagonal SOS\n",
    "        self.assertTrue(game.game_over)\n",
    "        self.assertEqual(game.winner, 'Blue')\n",
    "\n",
    "    def test_no_sos_no_win(self):\n",
    "        game = SOSGame(n=3, mode=\"Simple\")\n",
    "        game.place_symbol(0, 0)\n",
    "        game.place_symbol(0, 1)\n",
    "        game.place_symbol(1, 1)\n",
    "        self.assertFalse(game.game_over)\n",
    "        self.assertIsNone(game.winner)\n",
    "\n",
    "    def test_game_stops_after_win(self):\n",
    "        game = SOSGame(n=5, mode=\"Simple\")\n",
    "        game.board[0][0] = ('S', 'Blue')\n",
    "        game.board[0][1] = ('O', 'Red')\n",
    "        game.symbol_choice['Blue'] = 'S'\n",
    "        game.place_symbol(0, 2)  # Blue wins\n",
    "        game.place_symbol(1, 1)  # Should not be accepted\n",
    "        self.assertEqual(game.board[1][1], '')\n",
    "        self.assertEqual(game.winner, 'Blue')\n",
    "        self.assertTrue(game.game_over)\n",
    "\n",
    "    def test_turn_switches_properly(self):\n",
    "        game = SOSGame(n=3, mode=\"Simple\")\n",
    "        game.place_symbol(0, 0)\n",
    "        self.assertEqual(game.current_player, 'Red')\n",
    "        game.place_symbol(0, 1)\n",
    "        self.assertEqual(game.current_player, 'Blue')\n",
    "\n",
    "if __name__ == '__main__':\n",
    "    unittest.main()"
   ]
  },
  {
   "cell_type": "code",
   "execution_count": null,
   "id": "e4e50aea-cc60-4de5-983b-342f62f21f9d",
   "metadata": {},
   "outputs": [],
   "source": []
  }
 ],
 "metadata": {
  "kernelspec": {
   "display_name": "Python 3 (ipykernel)",
   "language": "python",
   "name": "python3"
  },
  "language_info": {
   "codemirror_mode": {
    "name": "ipython",
    "version": 3
   },
   "file_extension": ".py",
   "mimetype": "text/x-python",
   "name": "python",
   "nbconvert_exporter": "python",
   "pygments_lexer": "ipython3",
   "version": "3.11.8"
  }
 },
 "nbformat": 4,
 "nbformat_minor": 5
}
